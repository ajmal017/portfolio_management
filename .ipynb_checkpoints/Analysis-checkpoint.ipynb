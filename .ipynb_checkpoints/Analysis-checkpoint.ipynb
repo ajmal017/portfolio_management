{
 "cells": [
  {
   "cell_type": "code",
   "execution_count": 130,
   "metadata": {},
   "outputs": [
    {
     "name": "stdout",
     "output_type": "stream",
     "text": [
      "The autoreload extension is already loaded. To reload it, use:\n",
      "  %reload_ext autoreload\n"
     ]
    },
    {
     "data": {
      "text/plain": [
       "<module 'PMP_toolkit' from '/Users/alperoner/PycharmProjects/PMP/IBJts/samples/Python/Testbed/PMP_toolkit.py'>"
      ]
     },
     "execution_count": 130,
     "metadata": {},
     "output_type": "execute_result"
    }
   ],
   "source": [
    "%load_ext autoreload\n",
    "%autoreload 2 \n",
    "%matplotlib inline\n",
    "\n",
    "from importlib import reload\n",
    "import pandas as pd\n",
    "import numpy as np\n",
    "import PMP_toolkit as pmp\n",
    "reload(pmp)"
   ]
  },
  {
   "cell_type": "code",
   "execution_count": 134,
   "metadata": {},
   "outputs": [
    {
     "ename": "AttributeError",
     "evalue": "module 'PMP_toolkit' has no attribute 'sp500'",
     "output_type": "error",
     "traceback": [
      "\u001b[0;31m---------------------------------------------------------------------------\u001b[0m",
      "\u001b[0;31mAttributeError\u001b[0m                            Traceback (most recent call last)",
      "\u001b[0;32m<ipython-input-134-8fcde685608d>\u001b[0m in \u001b[0;36m<module>\u001b[0;34m\u001b[0m\n\u001b[1;32m      1\u001b[0m \u001b[0mtickers_to_read\u001b[0m \u001b[0;34m=\u001b[0m \u001b[0;34m[\u001b[0m\u001b[0;34m\"AAPL\"\u001b[0m\u001b[0;34m,\u001b[0m \u001b[0;34m\"BABA\"\u001b[0m\u001b[0;34m]\u001b[0m\u001b[0;34m\u001b[0m\u001b[0;34m\u001b[0m\u001b[0m\n\u001b[1;32m      2\u001b[0m \u001b[0mdata\u001b[0m \u001b[0;34m=\u001b[0m \u001b[0mpmp\u001b[0m\u001b[0;34m.\u001b[0m\u001b[0mread_data\u001b[0m\u001b[0;34m(\u001b[0m\u001b[0mtickers_to_read\u001b[0m\u001b[0;34m)\u001b[0m\u001b[0;34m\u001b[0m\u001b[0;34m\u001b[0m\u001b[0m\n\u001b[0;32m----> 3\u001b[0;31m \u001b[0msp500_tickers\u001b[0m \u001b[0;34m=\u001b[0m \u001b[0mpmp\u001b[0m\u001b[0;34m.\u001b[0m\u001b[0msp500\u001b[0m\u001b[0;34m(\u001b[0m\u001b[0mpath_to_store\u001b[0m\u001b[0;34m=\u001b[0m\u001b[0;34m\"/Users/alperoner/PycharmProjects/PMP/sp500.csv\"\u001b[0m\u001b[0;34m)\u001b[0m\u001b[0;34m\u001b[0m\u001b[0;34m\u001b[0m\u001b[0m\n\u001b[0m",
      "\u001b[0;31mAttributeError\u001b[0m: module 'PMP_toolkit' has no attribute 'sp500'"
     ]
    }
   ],
   "source": [
    "tickers_to_read = [\"AAPL\", \"BABA\"]\n",
    "data = pmp.read_data(tickers_to_read)\n",
    "sp500_tickers = pmp.sp500(path_to_store=\"/Users/alperoner/PycharmProjects/PMP/sp500.csv\")"
   ]
  },
  {
   "cell_type": "code",
   "execution_count": 103,
   "metadata": {},
   "outputs": [
    {
     "name": "stdout",
     "output_type": "stream",
     "text": [
      "            Close\n",
      "Date             \n",
      "2015-05  0.040807\n",
      "2015-06 -0.037672\n",
      "2015-07 -0.031852\n",
      "2015-08 -0.071605\n",
      "2015-09 -0.021732\n",
      "            Close\n",
      "Date             \n",
      "2015-05  0.100505\n",
      "2015-06 -0.079694\n",
      "2015-07 -0.047399\n",
      "2015-08 -0.157055\n",
      "2015-09 -0.108067\n"
     ]
    }
   ],
   "source": [
    "returns = pmp.get_returns(data, [\"Close\"])\n",
    "pmp.display(returns)"
   ]
  },
  {
   "cell_type": "code",
   "execution_count": 123,
   "metadata": {},
   "outputs": [],
   "source": [
    "merged_returns = pmp.merge_data(returns)\n",
    "merged_returns = merged_returns[\"2015\":\"2018\"]\n",
    "#cov_matrix = merged_returns.cov()\n",
    "#expected_returns = pmp.annualize_rets(merged_returns,12)"
   ]
  },
  {
   "cell_type": "code",
   "execution_count": 124,
   "metadata": {},
   "outputs": [
    {
     "name": "stdout",
     "output_type": "stream",
     "text": [
      "[0.76563398 0.23436602]\n"
     ]
    }
   ],
   "source": [
    "weights = pmp.gmv(merged_returns)\n",
    "print(weights)"
   ]
  },
  {
   "cell_type": "code",
   "execution_count": null,
   "metadata": {},
   "outputs": [],
   "source": []
  }
 ],
 "metadata": {
  "kernelspec": {
   "display_name": "Python 3",
   "language": "python",
   "name": "python3"
  },
  "language_info": {
   "codemirror_mode": {
    "name": "ipython",
    "version": 3
   },
   "file_extension": ".py",
   "mimetype": "text/x-python",
   "name": "python",
   "nbconvert_exporter": "python",
   "pygments_lexer": "ipython3",
   "version": "3.7.4"
  }
 },
 "nbformat": 4,
 "nbformat_minor": 4
}
